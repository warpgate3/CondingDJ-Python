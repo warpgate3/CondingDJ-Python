{
  "nbformat": 4,
  "nbformat_minor": 0,
  "metadata": {
    "colab": {
      "name": "Untitled0.ipynb",
      "provenance": [],
      "authorship_tag": "ABX9TyOLdgyCi30iN5im1SwwX87H",
      "include_colab_link": true
    },
    "kernelspec": {
      "name": "python3",
      "display_name": "Python 3"
    },
    "language_info": {
      "name": "python"
    }
  },
  "cells": [
    {
      "cell_type": "markdown",
      "metadata": {
        "id": "view-in-github",
        "colab_type": "text"
      },
      "source": [
        "<a href=\"https://colab.research.google.com/github/warpgate3/CondingDJ-Python/blob/master/Untitled0.ipynb\" target=\"_parent\"><img src=\"https://colab.research.google.com/assets/colab-badge.svg\" alt=\"Open In Colab\"/></a>"
      ]
    },
    {
      "cell_type": "code",
      "execution_count": 2,
      "metadata": {
        "colab": {
          "base_uri": "https://localhost:8080/"
        },
        "id": "jy2_EF5qjwr0",
        "outputId": "4cb9fb11-6da8-44a3-e2ec-8ad8fe57be15"
      },
      "outputs": [
        {
          "output_type": "stream",
          "name": "stdout",
          "text": [
            "        createDt  deathCnt  defCnt           gubunEn  incDec  localOccCnt  \\\n",
            "0     2022-04-17        16   10899                10       0           10   \n",
            "1     2022-04-17       153  209361              Jeju    1468         1468   \n",
            "2     2022-04-17      1067  976778  Gyeongsangnam-do    5516         5516   \n",
            "3     2022-04-17      1120  656804  Gyeongsangbuk-do    5053         5053   \n",
            "4     2022-04-17       343  513157      Jeollanam-do    4396         4395   \n",
            "...          ...       ...     ...               ...     ...          ...   \n",
            "8374  2021-02-01         7     750      Jeollanam-do       1            0   \n",
            "8375  2021-02-01        68    3022  Gyeongsangbuk-do       5            4   \n",
            "8376  2021-02-01         9    2015  Gyeongsangnam-do       4            4   \n",
            "8377  2021-02-01         0     522              Jeju       0            0   \n",
            "8378  2021-02-01         3    2732                 6       0            6   \n",
            "\n",
            "     overFlowCnt qurRate                                        seq  \\\n",
            "0              -   16387                     2022??04??17??00??null   \n",
            "1              0   30936                                      16386   \n",
            "2              0   29473                                      16385   \n",
            "3              0   25006                                      16384   \n",
            "4              1   27998                                      16383   \n",
            "...          ...     ...                                        ...   \n",
            "8374           1   40.22                                       7187   \n",
            "8375           1   113.5                                       7186   \n",
            "8376           0   59.95                                       7185   \n",
            "8377           0   77.82                                       7184   \n",
            "8378           0    7183  2021??02??01??00??2021-09-16 10:11:33.897   \n",
            "\n",
            "                                         stdDay  updateDt  \n",
            "0                                           NaN       NaN  \n",
            "1                        2022??04??17??00??null       NaN  \n",
            "2                        2022??04??17??00??null       NaN  \n",
            "3                        2022??04??17??00??null       NaN  \n",
            "4                        2022??04??17??00??null       NaN  \n",
            "...                                         ...       ...  \n",
            "8374  2021??02??01??00??2021-09-16 10:11:33.897       NaN  \n",
            "8375  2021??02??01??00??2021-09-16 10:11:33.897       NaN  \n",
            "8376  2021??02??01??00??2021-09-16 10:11:33.897       NaN  \n",
            "8377  2021??02??01??00??2021-09-16 10:11:33.897       NaN  \n",
            "8378                                        NaN       NaN  \n",
            "\n",
            "[8379 rows x 11 columns]\n"
          ]
        }
      ],
      "source": [
        "import pandas as pd\n",
        "\n",
        "covid = pd.read_csv('/content/covid19-2021-2022.csv')\n",
        "print(covid)"
      ]
    }
  ]
}